{
 "cells": [
  {
   "cell_type": "code",
   "execution_count": 1,
   "metadata": {},
   "outputs": [],
   "source": [
    "from django.template import Context\n",
    "\n",
    "from django.template.base import Token\n",
    "from django.template.base import Parser\n",
    "from django.template.base import Template\n",
    "from django.template.base import TokenType\n",
    "\n",
    "from django.core.management import call_command\n",
    "\n",
    "from wagtail_srcset.templatetags.wagtail_srcset_tags import srcset_image"
   ]
  },
  {
   "cell_type": "code",
   "execution_count": 2,
   "metadata": {},
   "outputs": [],
   "source": [
    "from django.core.files.uploadedfile import SimpleUploadedFile\n",
    "\n",
    "from wagtail.images.models import Image as WagtailImage"
   ]
  },
  {
   "cell_type": "markdown",
   "metadata": {},
   "source": [
    "# setup db"
   ]
  },
  {
   "cell_type": "code",
   "execution_count": 3,
   "metadata": {},
   "outputs": [
    {
     "name": "stdout",
     "output_type": "stream",
     "text": [
      "Operations to perform:\n",
      "  Apply all migrations: admin, auth, contenttypes, sessions, sites, taggit, wagtailadmin, wagtailcore, wagtaildocs, wagtailembeds, wagtailforms, wagtailimages, wagtailredirects, wagtailsearch, wagtailusers\n",
      "Running migrations:\n",
      "  No migrations to apply.\n"
     ]
    }
   ],
   "source": [
    "call_command(\"migrate\")"
   ]
  },
  {
   "cell_type": "markdown",
   "metadata": {},
   "source": [
    "# create image"
   ]
  },
  {
   "cell_type": "code",
   "execution_count": 4,
   "metadata": {},
   "outputs": [],
   "source": [
    "import io\n",
    "\n",
    "from PIL import Image\n",
    "\n",
    "\n",
    "\n",
    "def create_small_rgb():\n",
    "    # this is a small test jpeg\n",
    "    img = Image.new('RGB', (200, 200), (255, 0, 0, 0))\n",
    "    return img\n",
    "\n",
    "\n",
    "def small_jpeg_io():\n",
    "    rgb = create_small_rgb()\n",
    "    im_io = io.BytesIO()\n",
    "    rgb.save(im_io, format=\"JPEG\", quality=60, optimize=True, progressive=True)\n",
    "    im_io.seek(0)\n",
    "    im_io.name = \"testimage.jpg\"\n",
    "    return im_io\n",
    "\n",
    "\n",
    "def small_uploaded_file(small_jpeg_io):\n",
    "    simple_png = SimpleUploadedFile(\n",
    "        name=\"test.png\", content=small_jpeg_io.read(), content_type=\"image/png\"\n",
    "    )\n",
    "    small_jpeg_io.seek(0)\n",
    "    return simple_png"
   ]
  },
  {
   "cell_type": "code",
   "execution_count": 5,
   "metadata": {},
   "outputs": [],
   "source": [
    "simple_png = small_uploaded_file(small_jpeg_io())"
   ]
  },
  {
   "cell_type": "code",
   "execution_count": 6,
   "metadata": {},
   "outputs": [
    {
     "name": "stdout",
     "output_type": "stream",
     "text": [
      "{'default': {'ENGINE': 'django.db.backends.sqlite3', 'NAME': '/Users/jochen/projects/wagtail_srcset/example/db.sqlite', 'ATOMIC_REQUESTS': False, 'AUTOCOMMIT': True, 'CONN_MAX_AGE': 0, 'OPTIONS': {}, 'TIME_ZONE': None, 'USER': '', 'PASSWORD': '', 'HOST': '', 'PORT': '', 'TEST': {'CHARSET': None, 'COLLATION': None, 'NAME': None, 'MIRROR': None}}}\n"
     ]
    }
   ],
   "source": [
    "from django.conf import settings\n",
    "\n",
    "print(settings.DATABASES)"
   ]
  },
  {
   "cell_type": "code",
   "execution_count": 7,
   "metadata": {},
   "outputs": [],
   "source": [
    "image = WagtailImage(file=simple_png)\n",
    "image.save()"
   ]
  },
  {
   "cell_type": "markdown",
   "metadata": {},
   "source": [
    "# render template"
   ]
  },
  {
   "cell_type": "code",
   "execution_count": 8,
   "metadata": {},
   "outputs": [],
   "source": [
    "template_text = \"\"\"\n",
    "{% load wagtail_srcset_tags %}\n",
    "\n",
    "{% srcset_image img width-300 jpegquality-90 %}\n",
    "\"\"\""
   ]
  },
  {
   "cell_type": "code",
   "execution_count": 9,
   "metadata": {},
   "outputs": [
    {
     "name": "stdout",
     "output_type": "stream",
     "text": [
      "in srcset image:  <wagtail.images.templatetags.wagtailimages_tags.ImageNode object at 0x10f0d53a0>\n",
      "srcset_string:  /media/images/test_ekYJKaE.width-2200.jpegquality-90.jpg 200w, /media/images/test_ekYJKaE.width-1100.jpegquality-90.jpg 200w, /media/images/test_ekYJKaE.width-768.jpegquality-90.jpg 200w, /media/images/test_ekYJKaE.width-500.jpegquality-90.jpg 200w, /media/images/test_ekYJKaE.width-300.jpegquality-90.jpg 200w\n",
      "foobarbaz: \n",
      "\n",
      "\n",
      "\n",
      "<img alt=\"\" height=\"200\" src=\"/media/images/test_ekYJKaE.width-300.jpegquality-90.jpg\" srcset=\"/media/images/test_ekYJKaE.width-2200.jpegquality-90.jpg 200w, /media/images/test_ekYJKaE.width-1100.jpegquality-90.jpg 200w, /media/images/test_ekYJKaE.width-768.jpegquality-90.jpg 200w, /media/images/test_ekYJKaE.width-500.jpegquality-90.jpg 200w, /media/images/test_ekYJKaE.width-300.jpegquality-90.jpg 200w\" width=\"200\">\n",
      "\n"
     ]
    }
   ],
   "source": [
    "t = Template(template_text)\n",
    "print(t.render(Context({\"img\": image})))"
   ]
  },
  {
   "cell_type": "code",
   "execution_count": 10,
   "metadata": {},
   "outputs": [],
   "source": [
    "template_text = \"\"\"\n",
    "{% load wagtail_srcset_tags %}\n",
    "\n",
    "{% srcset_image img width-300 jpegquality-90 as thumbnail %}\n",
    "thumbnail attrs: {{ thumbnail.attrs }}\n",
    "image srcset_string: {{ img.srcset_string }}\n",
    "thumbnail srcset: {{ thumbnail.srcset_string }}\n",
    "\"\"\""
   ]
  },
  {
   "cell_type": "code",
   "execution_count": 11,
   "metadata": {},
   "outputs": [
    {
     "name": "stdout",
     "output_type": "stream",
     "text": [
      "in srcset image:  <wagtail.images.templatetags.wagtailimages_tags.ImageNode object at 0x10f934a00>\n",
      "srcset_string:  /media/images/test_ekYJKaE.width-2200.jpegquality-90.jpg 200w, /media/images/test_ekYJKaE.width-1100.jpegquality-90.jpg 200w, /media/images/test_ekYJKaE.width-768.jpegquality-90.jpg 200w, /media/images/test_ekYJKaE.width-500.jpegquality-90.jpg 200w, /media/images/test_ekYJKaE.width-300.jpegquality-90.jpg 200w\n",
      "foobarbaz: \n",
      "\n",
      "\n",
      "\n",
      "\n",
      "thumbnail attrs:  alt=\"\" height=\"200\" src=\"/media/images/test_ekYJKaE.width-300.jpegquality-90.jpg\" width=\"200\"\n",
      "image srcset_string: \n",
      "thumbnail srcset: /media/images/test_ekYJKaE.width-2200.jpegquality-90.jpg 200w, /media/images/test_ekYJKaE.width-1100.jpegquality-90.jpg 200w, /media/images/test_ekYJKaE.width-768.jpegquality-90.jpg 200w, /media/images/test_ekYJKaE.width-500.jpegquality-90.jpg 200w, /media/images/test_ekYJKaE.width-300.jpegquality-90.jpg 200w\n",
      "\n"
     ]
    }
   ],
   "source": [
    "t = Template(template_text)\n",
    "print(t.render(Context({\"img\": image})))"
   ]
  },
  {
   "cell_type": "code",
   "execution_count": null,
   "metadata": {},
   "outputs": [],
   "source": []
  }
 ],
 "metadata": {
  "kernelspec": {
   "display_name": "Django Shell-Plus",
   "language": "python",
   "name": "django_extensions"
  },
  "language_info": {
   "codemirror_mode": {
    "name": "ipython",
    "version": 3
   },
   "file_extension": ".py",
   "mimetype": "text/x-python",
   "name": "python",
   "nbconvert_exporter": "python",
   "pygments_lexer": "ipython3",
   "version": "3.8.2"
  }
 },
 "nbformat": 4,
 "nbformat_minor": 2
}
