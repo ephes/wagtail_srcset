{
 "cells": [
  {
   "cell_type": "code",
   "execution_count": 1,
   "metadata": {},
   "outputs": [],
   "source": [
    "from django.template import Context\n",
    "\n",
    "from django.template.base import Token\n",
    "from django.template.base import Parser\n",
    "from django.template.base import Template\n",
    "from django.template.base import TokenType\n",
    "\n",
    "from django.core.management import call_command\n",
    "\n",
    "from wagtail_srcset.templatetags.wagtail_srcset_tags import srcset_image"
   ]
  },
  {
   "cell_type": "code",
   "execution_count": 2,
   "metadata": {},
   "outputs": [],
   "source": [
    "from django.core.files.uploadedfile import SimpleUploadedFile\n",
    "\n",
    "from wagtail.images.models import Image as WagtailImage"
   ]
  },
  {
   "cell_type": "markdown",
   "metadata": {},
   "source": [
    "# setup db"
   ]
  },
  {
   "cell_type": "code",
   "execution_count": 3,
   "metadata": {},
   "outputs": [
    {
     "name": "stdout",
     "output_type": "stream",
     "text": [
      "Operations to perform:\n",
      "  Apply all migrations: admin, auth, contenttypes, sessions, sites, taggit, wagtailadmin, wagtailcore, wagtaildocs, wagtailembeds, wagtailforms, wagtailimages, wagtailredirects, wagtailsearch, wagtailusers\n",
      "Running migrations:\n",
      "  Applying contenttypes.0001_initial... OK\n",
      "  Applying auth.0001_initial... OK\n",
      "  Applying admin.0001_initial... OK\n",
      "  Applying admin.0002_logentry_remove_auto_add... OK\n",
      "  Applying admin.0003_logentry_add_action_flag_choices... OK\n",
      "  Applying contenttypes.0002_remove_content_type_name... OK\n",
      "  Applying auth.0002_alter_permission_name_max_length... OK\n",
      "  Applying auth.0003_alter_user_email_max_length... OK\n",
      "  Applying auth.0004_alter_user_username_opts... OK\n",
      "  Applying auth.0005_alter_user_last_login_null... OK\n",
      "  Applying auth.0006_require_contenttypes_0002... OK\n",
      "  Applying auth.0007_alter_validators_add_error_messages... OK\n",
      "  Applying auth.0008_alter_user_username_max_length... OK\n",
      "  Applying auth.0009_alter_user_last_name_max_length... OK\n",
      "  Applying auth.0010_alter_group_name_max_length... OK\n",
      "  Applying auth.0011_update_proxy_permissions... OK\n",
      "  Applying sessions.0001_initial... OK\n",
      "  Applying sites.0001_initial... OK\n",
      "  Applying sites.0002_alter_domain_unique... OK\n",
      "  Applying taggit.0001_initial... OK\n",
      "  Applying taggit.0002_auto_20150616_2121... OK\n",
      "  Applying wagtailcore.0001_squashed_0016_change_page_url_path_to_text_field... OK\n",
      "  Applying wagtailcore.0017_change_edit_page_permission_description... OK\n",
      "  Applying wagtailcore.0018_pagerevision_submitted_for_moderation_index... OK\n",
      "  Applying wagtailcore.0019_verbose_names_cleanup... OK\n",
      "  Applying wagtailcore.0020_add_index_on_page_first_published_at... OK\n",
      "  Applying wagtailcore.0021_capitalizeverbose... OK\n",
      "  Applying wagtailcore.0022_add_site_name... OK\n",
      "  Applying wagtailcore.0023_alter_page_revision_on_delete_behaviour... OK\n",
      "  Applying wagtailcore.0024_collection... OK\n",
      "  Applying wagtailcore.0025_collection_initial_data... OK\n",
      "  Applying wagtailcore.0026_group_collection_permission... OK\n",
      "  Applying wagtailadmin.0001_create_admin_access_permissions... OK\n",
      "  Applying wagtailcore.0027_fix_collection_path_collation... OK\n",
      "  Applying wagtailcore.0024_alter_page_content_type_on_delete_behaviour... OK\n",
      "  Applying wagtailcore.0028_merge... OK\n",
      "  Applying wagtailcore.0029_unicode_slugfield_dj19... OK\n",
      "  Applying wagtailcore.0030_index_on_pagerevision_created_at... OK\n",
      "  Applying wagtailcore.0031_add_page_view_restriction_types... OK\n",
      "  Applying wagtailcore.0032_add_bulk_delete_page_permission... OK\n",
      "  Applying wagtailcore.0033_remove_golive_expiry_help_text... OK\n",
      "  Applying wagtailcore.0034_page_live_revision... OK\n",
      "  Applying wagtailcore.0035_page_last_published_at... OK\n",
      "  Applying wagtailcore.0036_populate_page_last_published_at... OK\n",
      "  Applying wagtailcore.0037_set_page_owner_editable... OK\n",
      "  Applying wagtailcore.0038_make_first_published_at_editable... OK\n",
      "  Applying wagtailcore.0039_collectionviewrestriction... OK\n",
      "  Applying wagtailcore.0040_page_draft_title... OK\n",
      "  Applying wagtailcore.0041_group_collection_permissions_verbose_name_plural... OK\n",
      "  Applying wagtaildocs.0001_initial... OK\n",
      "  Applying wagtaildocs.0002_initial_data... OK\n",
      "  Applying wagtaildocs.0003_add_verbose_names... OK\n",
      "  Applying wagtaildocs.0004_capitalizeverbose... OK\n",
      "  Applying wagtaildocs.0005_document_collection... OK\n",
      "  Applying wagtaildocs.0006_copy_document_permissions_to_collections... OK\n",
      "  Applying wagtaildocs.0005_alter_uploaded_by_user_on_delete_action... OK\n",
      "  Applying wagtaildocs.0007_merge... OK\n",
      "  Applying wagtaildocs.0008_document_file_size... OK\n",
      "  Applying wagtaildocs.0009_document_verbose_name_plural... OK\n",
      "  Applying wagtaildocs.0010_document_file_hash... OK\n",
      "  Applying wagtailembeds.0001_initial... OK\n",
      "  Applying wagtailembeds.0002_add_verbose_names... OK\n",
      "  Applying wagtailembeds.0003_capitalizeverbose... OK\n",
      "  Applying wagtailembeds.0004_embed_verbose_name_plural... OK\n",
      "  Applying wagtailembeds.0005_specify_thumbnail_url_max_length... OK\n",
      "  Applying wagtailforms.0001_initial... OK\n",
      "  Applying wagtailforms.0002_add_verbose_names... OK\n",
      "  Applying wagtailforms.0003_capitalizeverbose... OK\n",
      "  Applying wagtailimages.0001_squashed_0021... OK\n",
      "  Applying wagtailredirects.0001_initial... OK\n",
      "  Applying wagtailredirects.0002_add_verbose_names... OK\n",
      "  Applying wagtailredirects.0003_make_site_field_editable... OK\n",
      "  Applying wagtailredirects.0004_set_unique_on_path_and_site... OK\n",
      "  Applying wagtailredirects.0005_capitalizeverbose... OK\n",
      "  Applying wagtailredirects.0006_redirect_increase_max_length... OK\n",
      "  Applying wagtailsearch.0001_initial... OK\n",
      "  Applying wagtailsearch.0002_add_verbose_names... OK\n",
      "  Applying wagtailsearch.0003_remove_editors_pick... OK\n",
      "  Applying wagtailsearch.0004_querydailyhits_verbose_name_plural... OK\n",
      "  Applying wagtailusers.0001_initial... OK\n",
      "  Applying wagtailusers.0002_add_verbose_name_on_userprofile... OK\n",
      "  Applying wagtailusers.0003_add_verbose_names... OK\n",
      "  Applying wagtailusers.0004_capitalizeverbose... OK\n",
      "  Applying wagtailusers.0005_make_related_name_wagtail_specific... OK\n",
      "  Applying wagtailusers.0006_userprofile_prefered_language... OK\n",
      "  Applying wagtailusers.0007_userprofile_current_time_zone... OK\n",
      "  Applying wagtailusers.0008_userprofile_avatar... OK\n",
      "  Applying wagtailusers.0009_userprofile_verbose_name_plural... OK\n"
     ]
    }
   ],
   "source": [
    "call_command(\"migrate\")"
   ]
  },
  {
   "cell_type": "markdown",
   "metadata": {},
   "source": [
    "# create image"
   ]
  },
  {
   "cell_type": "code",
   "execution_count": 4,
   "metadata": {},
   "outputs": [],
   "source": [
    "import io\n",
    "\n",
    "from PIL import Image\n",
    "\n",
    "\n",
    "\n",
    "def create_small_rgb():\n",
    "    # this is a small test jpeg\n",
    "    img = Image.new('RGB', (200, 200), (255, 0, 0, 0))\n",
    "    return img\n",
    "\n",
    "\n",
    "def small_jpeg_io():\n",
    "    rgb = create_small_rgb()\n",
    "    im_io = io.BytesIO()\n",
    "    rgb.save(im_io, format=\"JPEG\", quality=60, optimize=True, progressive=True)\n",
    "    im_io.seek(0)\n",
    "    im_io.name = \"testimage.jpg\"\n",
    "    return im_io\n",
    "\n",
    "\n",
    "def small_uploaded_file(small_jpeg_io):\n",
    "    simple_png = SimpleUploadedFile(\n",
    "        name=\"test.png\", content=small_jpeg_io.read(), content_type=\"image/png\"\n",
    "    )\n",
    "    small_jpeg_io.seek(0)\n",
    "    return simple_png"
   ]
  },
  {
   "cell_type": "code",
   "execution_count": 5,
   "metadata": {},
   "outputs": [],
   "source": [
    "simple_png = small_uploaded_file(small_jpeg_io())"
   ]
  },
  {
   "cell_type": "code",
   "execution_count": 6,
   "metadata": {},
   "outputs": [
    {
     "name": "stdout",
     "output_type": "stream",
     "text": [
      "{'default': {'ENGINE': 'django.db.backends.sqlite3', 'NAME': ':memory:', 'ATOMIC_REQUESTS': False, 'AUTOCOMMIT': True, 'CONN_MAX_AGE': 0, 'OPTIONS': {}, 'TIME_ZONE': None, 'USER': '', 'PASSWORD': '', 'HOST': '', 'PORT': '', 'TEST': {'CHARSET': None, 'COLLATION': None, 'NAME': None, 'MIRROR': None}}}\n"
     ]
    }
   ],
   "source": [
    "from django.conf import settings\n",
    "\n",
    "print(settings.DATABASES)"
   ]
  },
  {
   "cell_type": "code",
   "execution_count": 7,
   "metadata": {},
   "outputs": [],
   "source": [
    "image = WagtailImage(file=simple_png)\n",
    "image.save()"
   ]
  },
  {
   "cell_type": "markdown",
   "metadata": {},
   "source": [
    "# render template"
   ]
  },
  {
   "cell_type": "code",
   "execution_count": 8,
   "metadata": {},
   "outputs": [],
   "source": [
    "template_text = \"\"\"\n",
    "{% load wagtailimages_tags %}\n",
    "{% load wagtail_srcset_tags %}\n",
    "\n",
    "{% image img width-300 %}\n",
    "{% srcset_image img width-300 %}\n",
    "\"\"\""
   ]
  },
  {
   "cell_type": "code",
   "execution_count": 9,
   "metadata": {},
   "outputs": [
    {
     "name": "stdout",
     "output_type": "stream",
     "text": [
      "<wagtail.images.templatetags.wagtailimages_tags.ImageNode object at 0x11051f450>\n",
      "['__class__', '__delattr__', '__dict__', '__dir__', '__doc__', '__eq__', '__format__', '__ge__', '__getattribute__', '__gt__', '__hash__', '__init__', '__init_subclass__', '__iter__', '__le__', '__lt__', '__module__', '__ne__', '__new__', '__reduce__', '__reduce_ex__', '__repr__', '__setattr__', '__sizeof__', '__str__', '__subclasshook__', '__weakref__', 'attrs', 'child_nodelists', 'filter', 'filter_spec', 'get_nodes_by_type', 'image_expr', 'must_be_first', 'output_var_name', 'render', 'render_annotated', 'token']\n",
      "\n",
      "\n",
      "\n",
      "\n",
      "<img alt=\"\" height=\"200\" src=\"/media/images/test_G5BCc9J.width-300.jpg\" width=\"200\">\n",
      "<img alt=\"\" height=\"200\" src=\"/media/images/test_G5BCc9J.width-300.jpg\" srcset=\"/media/images/test_G5BCc9J.width-2200.jpegquality-60.jpg 200w, /media/images/test_G5BCc9J.width-1100.jpegquality-60.jpg 200w, /media/images/test_G5BCc9J.width-768.jpegquality-60.jpg 200w, /media/images/test_G5BCc9J.width-500.jpegquality-60.jpg 200w, /media/images/test_G5BCc9J.width-300.jpegquality-60.jpg 200w\" width=\"200\">\n",
      "\n"
     ]
    }
   ],
   "source": [
    "t = Template(template_text)\n",
    "print(t.render(Context({\"img\": image})))"
   ]
  },
  {
   "cell_type": "code",
   "execution_count": 17,
   "metadata": {},
   "outputs": [],
   "source": [
    "template_text = \"\"\"\n",
    "{% load wagtailimages_tags %}\n",
    "\n",
    "{% image img width-300 %}\n",
    "\"\"\""
   ]
  },
  {
   "cell_type": "code",
   "execution_count": 18,
   "metadata": {},
   "outputs": [
    {
     "data": {
      "text/plain": [
       "'\\n\\n\\n<img alt=\"\" height=\"200\" src=\"/media/images/test.width-300.jpg\" width=\"200\">\\n'"
      ]
     },
     "execution_count": 18,
     "metadata": {},
     "output_type": "execute_result"
    }
   ],
   "source": [
    "t = Template(template_text)\n",
    "t.render(Context({\"img\": image}))"
   ]
  },
  {
   "cell_type": "code",
   "execution_count": 13,
   "metadata": {},
   "outputs": [],
   "source": [
    "image_tag = \"{% image block.value width-300 %}\"\n",
    "image_tag = \"block.value width-300}\"\n",
    "\n",
    "token = Token(TokenType.BLOCK, image_tag)\n",
    "parser = Parser(token.split_contents())"
   ]
  },
  {
   "cell_type": "code",
   "execution_count": 19,
   "metadata": {},
   "outputs": [
    {
     "name": "stdout",
     "output_type": "stream",
     "text": [
      "<wagtail.images.templatetags.wagtailimages_tags.ImageNode object at 0x112286e90>\n",
      "['__class__', '__delattr__', '__dict__', '__dir__', '__doc__', '__eq__', '__format__', '__ge__', '__getattribute__', '__gt__', '__hash__', '__init__', '__init_subclass__', '__iter__', '__le__', '__lt__', '__module__', '__ne__', '__new__', '__reduce__', '__reduce_ex__', '__repr__', '__setattr__', '__sizeof__', '__str__', '__subclasshook__', '__weakref__', 'attrs', 'child_nodelists', 'filter', 'filter_spec', 'get_nodes_by_type', 'image_expr', 'must_be_first', 'output_var_name', 'render', 'render_annotated', 'token']\n"
     ]
    },
    {
     "data": {
      "text/plain": [
       "'\\n\\n\\n\\n\\n\\n'"
      ]
     },
     "execution_count": 19,
     "metadata": {},
     "output_type": "execute_result"
    }
   ],
   "source": [
    "t = Template(template_text)\n",
    "t.render(Context({}))"
   ]
  },
  {
   "cell_type": "markdown",
   "metadata": {},
   "source": [
    "# Get image size in tag"
   ]
  },
  {
   "cell_type": "code",
   "execution_count": 23,
   "metadata": {},
   "outputs": [],
   "source": [
    "from django import template\n",
    "from django.conf import settings\n",
    "\n",
    "from wagtail.images.templatetags.wagtailimages_tags import image"
   ]
  },
  {
   "cell_type": "code",
   "execution_count": 25,
   "metadata": {},
   "outputs": [],
   "source": [
    "register = template.Library()\n",
    "\n",
    "\n",
    "@register.tag(name=\"srcset_image2\")\n",
    "def srcset_image(parser, token):\n",
    "    image_node = image(parser, token)\n",
    "    print(image_node)\n",
    "    print(dir(image_node))\n",
    "    image_node.attrs[\"srcset\"] = SrcSet(image_node)\n",
    "    return image_node\n",
    "\n",
    "\n",
    "class SrcSet:\n",
    "    def __init__(self, image_node):\n",
    "        self.image_node = image_node\n",
    "        srcset = image_node.attrs.get(\"srcset\", None)\n",
    "        print(\"image node attrs: \", image_node.attrs)\n",
    "        print(\"image node width: \", image_node.attrs.get(\"width\"))\n",
    "        print(\"image node filter: \", image_node.filter.operations)\n",
    "        if srcset is None:\n",
    "            self.renditions = self.default_renditions\n",
    "        else:\n",
    "            self.renditions = self.renditions_from_srcset(srcset.token)\n",
    "\n",
    "    @property\n",
    "    def default_renditions(self):\n",
    "        if hasattr(settings, \"DEFAULT_SRCSET_RENDITIONS\"):\n",
    "            return settings.DEFAULT_SRCSET_RENDITIONS\n",
    "        else:\n",
    "            return [\n",
    "                \"width-2200|jpegquality-60\",\n",
    "                \"width-1100|jpegquality-60\",\n",
    "                \"width-768|jpegquality-60\",\n",
    "                \"width-500|jpegquality-60\",\n",
    "                \"width-300|jpegquality-60\",\n",
    "            ]\n",
    "\n",
    "    def renditions_from_srcset(self, srcset):\n",
    "        srcset = srcset.strip('\"').strip(\"'\")\n",
    "        return srcset.split(\" \")\n",
    "\n",
    "    def resolve(self, context):\n",
    "        image = self.image_node.image_expr.resolve(context)\n",
    "        out_renditions = []\n",
    "        for rendition in self.renditions:\n",
    "            rendered_image = image.get_rendition(rendition)\n",
    "            out_renditions.append(f\"{rendered_image.url} {rendered_image.width}w\")\n",
    "        srcset_string = \", \".join(out_renditions)\n",
    "        return srcset_string"
   ]
  },
  {
   "cell_type": "code",
   "execution_count": 33,
   "metadata": {},
   "outputs": [],
   "source": [
    "template_text = \"\"\"\n",
    "{% load wagtailimages_tags %}\n",
    "{% load wagtail_srcset_tags %}\n",
    "\n",
    "\n",
    "{% image img width-300 %}\n",
    "{% srcset_image img width-300 %}\n",
    "\"\"\""
   ]
  },
  {
   "cell_type": "code",
   "execution_count": 34,
   "metadata": {},
   "outputs": [
    {
     "name": "stdout",
     "output_type": "stream",
     "text": [
      "<wagtail.images.templatetags.wagtailimages_tags.ImageNode object at 0x105097c50>\n",
      "['__class__', '__delattr__', '__dict__', '__dir__', '__doc__', '__eq__', '__format__', '__ge__', '__getattribute__', '__gt__', '__hash__', '__init__', '__init_subclass__', '__iter__', '__le__', '__lt__', '__module__', '__ne__', '__new__', '__reduce__', '__reduce_ex__', '__repr__', '__setattr__', '__sizeof__', '__str__', '__subclasshook__', '__weakref__', 'attrs', 'child_nodelists', 'filter', 'filter_spec', 'get_nodes_by_type', 'image_expr', 'must_be_first', 'output_var_name', 'render', 'render_annotated', 'token']\n"
     ]
    },
    {
     "data": {
      "text/plain": [
       "'\\n\\n\\n\\n\\n\\n\\n'"
      ]
     },
     "execution_count": 34,
     "metadata": {},
     "output_type": "execute_result"
    }
   ],
   "source": [
    "t = Template(template_text)\n",
    "t.render(Context({\"img\": image}))"
   ]
  },
  {
   "cell_type": "code",
   "execution_count": null,
   "metadata": {},
   "outputs": [],
   "source": []
  }
 ],
 "metadata": {
  "kernelspec": {
   "display_name": "Django Shell-Plus",
   "language": "python",
   "name": "django_extensions"
  },
  "language_info": {
   "codemirror_mode": {
    "name": "ipython",
    "version": 3
   },
   "file_extension": ".py",
   "mimetype": "text/x-python",
   "name": "python",
   "nbconvert_exporter": "python",
   "pygments_lexer": "ipython3",
   "version": "3.7.4"
  }
 },
 "nbformat": 4,
 "nbformat_minor": 2
}
