{
 "cells": [
  {
   "cell_type": "code",
   "execution_count": 1,
   "metadata": {},
   "outputs": [],
   "source": [
    "from pathlib import Path\n",
    "\n",
    "from django.conf import settings\n",
    "from django.core.files.uploadedfile import SimpleUploadedFile\n",
    "\n",
    "from wagtail.images.models import Rendition\n",
    "from wagtail.images.models import Image as WagtailImage"
   ]
  },
  {
   "cell_type": "markdown",
   "metadata": {},
   "source": [
    "# create image"
   ]
  },
  {
   "cell_type": "code",
   "execution_count": 2,
   "metadata": {},
   "outputs": [
    {
     "data": {
      "text/plain": [
       "(1, {'taggit.TaggedItem': 0, 'wagtailimages.Image': 1})"
      ]
     },
     "execution_count": 2,
     "metadata": {},
     "output_type": "execute_result"
    }
   ],
   "source": [
    "Rendition.objects.all().delete()\n",
    "WagtailImage.objects.all().delete()"
   ]
  },
  {
   "cell_type": "code",
   "execution_count": 3,
   "metadata": {},
   "outputs": [],
   "source": [
    "image_name = \"apes.jpeg\"\n",
    "image_path = Path(settings.MEDIA_ROOT) / image_name\n",
    "with image_path.open(\"rb\") as f:\n",
    "    simple_image = SimpleUploadedFile(name=image_name, content=f.read(), content_type=\"image/jpeg\")"
   ]
  },
  {
   "cell_type": "code",
   "execution_count": 4,
   "metadata": {},
   "outputs": [],
   "source": [
    "image = WagtailImage(file=simple_image)\n",
    "image.save()"
   ]
  }
 ],
 "metadata": {
  "kernelspec": {
   "display_name": "Django Shell-Plus",
   "language": "python",
   "name": "django_extensions"
  },
  "language_info": {
   "codemirror_mode": {
    "name": "ipython",
    "version": 3
   },
   "file_extension": ".py",
   "mimetype": "text/x-python",
   "name": "python",
   "nbconvert_exporter": "python",
   "pygments_lexer": "ipython3",
   "version": "3.8.1"
  }
 },
 "nbformat": 4,
 "nbformat_minor": 2
}
